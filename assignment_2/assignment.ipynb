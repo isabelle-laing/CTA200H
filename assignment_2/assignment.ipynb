{
 "cells": [
  {
   "cell_type": "markdown",
   "id": "57d1faeb",
   "metadata": {},
   "source": [
    "# Assignment 2\n",
    "## Due by 11:59PM Saturday May 11th\n",
    "\n",
    "This assignment will have you practice some basic Python syntax such as functions, for loops and flow control. Write all of your code in a jupyter notebook and save it as `assignment_2/assignment.ipynb` in your git repo. Make sure you push to Github before the due date."
   ]
  },
  {
   "cell_type": "markdown",
   "id": "f929115e",
   "metadata": {},
   "source": [
    "# Part 1\n",
    "\n",
    "Write a python function for the function $f(x) = x^3 - x^2 - 1$. Also, write a function for it's derivative (you will have to work out $df/dx$ yourself), you can call these functions `f` and `df`."
   ]
  },
  {
   "cell_type": "code",
   "execution_count": 49,
   "id": "1f2eb736",
   "metadata": {},
   "outputs": [],
   "source": [
    "import numpy as np\n",
    "\n",
    "def f(x):\n",
    "  \"\"\"\n",
    "  function named f that takes x cubed minus x squared minus one and computes it\n",
    "  \"\"\"\n",
    "  return float(x**3 - x**2 - 1)\n",
    "\n",
    "def df(x):\n",
    "  \"\"\"\n",
    "  function named df that takes the derivative of f and computes it\n",
    "  \"\"\"\n",
    "  return float(3 * x**2 - 2 * x)"
   ]
  },
  {
   "cell_type": "markdown",
   "id": "daa3f86a",
   "metadata": {},
   "source": [
    "# Part 2\n",
    "\n",
    "Write a function `newton(f, df, x0, epsilon=1e-6, max_iter=30)` which performs a [Newton Iteration](https://en.wikipedia.org/wiki/Newton%27s_method) of the function `f` with derivative `df`.\n",
    "\n",
    "Newton iteration finds the root ($x_n$ such that $f(x_n) = 0$).\n",
    "\n",
    "To do this, implement the recursive expression $x_{n+1} = x_n - \\frac{f(x_n)}{f'(x_n)}$ using a loop.\n",
    "\n",
    "The iteration should stop either when `max_iter` is exceeded or when $|f(x_n)|$ < `epsilon`.\n",
    "\n",
    "If the method succeeds, (ie $|f(x_n$)| < `epsilon`), then your function should print `\"Found root in <N> iterations\"` and should return the value of $x_n$. Otherwise, it should print `\"Iteration failed\"` and return `None`."
   ]
  },
  {
   "cell_type": "code",
   "execution_count": 50,
   "id": "a916b913",
   "metadata": {},
   "outputs": [],
   "source": [
    "def newtonian(f, df, x0, epsilon=1e-6, max_iter=30):\n",
    "  \"\"\"this function is intended to perform a Newton Iteration \n",
    "  of the function f with derivative df using the two previous \n",
    "  function above\n",
    "  \"\"\"\n",
    "  x = x0\n",
    "  for n in range(max_iter):\n",
    "      fx = f(x)\n",
    "      if abs(fx) < epsilon:\n",
    "          print(\"Found root in\", \"<\", n, \">\", \"iterations\")\n",
    "          return x\n",
    "      dfx = df(x)\n",
    "      if dfx == 0:\n",
    "          print(\"Iteration failed\")\n",
    "          return None\n",
    "      x = x - fx / dfx\n",
    "  print(\"Iteration failed\")\n",
    "  return None"
   ]
  },
  {
   "cell_type": "markdown",
   "id": "325359f6",
   "metadata": {},
   "source": [
    "# Part 3\n",
    "\n",
    "Try out your function with the function you defined in part 1. You can experiment with setting $x_0$ differently (show at least two examples of $x_0$ in the notebook). Leave `epsilon` and `max_iter` as the default values specified in part 2.\n",
    "\n",
    "Try reducing `epsilon` to 1e-8. Does it still work? If so, how many more iterations does it take to converge."
   ]
  },
  {
   "cell_type": "markdown",
   "id": "8b2af81a",
   "metadata": {},
   "source": [
    "# Let's run it with the values from part 1 with different x_0 values"
   ]
  },
  {
   "cell_type": "code",
   "execution_count": 42,
   "id": "18fb61ec",
   "metadata": {},
   "outputs": [
    {
     "name": "stdout",
     "output_type": "stream",
     "text": [
      "Found root in < 5 > iterations\n"
     ]
    },
    {
     "data": {
      "text/plain": [
       "1.4655713749070918"
      ]
     },
     "execution_count": 42,
     "metadata": {},
     "output_type": "execute_result"
    }
   ],
   "source": [
    "#for x_0 as 1\n",
    "newtonian(f, df, 1, epsilon=1e-6, max_iter=30)"
   ]
  },
  {
   "cell_type": "code",
   "execution_count": 43,
   "id": "347739b3",
   "metadata": {},
   "outputs": [
    {
     "name": "stdout",
     "output_type": "stream",
     "text": [
      "Found root in < 6 > iterations\n"
     ]
    },
    {
     "data": {
      "text/plain": [
       "1.4655712318902172"
      ]
     },
     "execution_count": 43,
     "metadata": {},
     "output_type": "execute_result"
    }
   ],
   "source": [
    "#for x_0 as 10\n",
    "newtonian(f, df, 3, epsilon=1e-6, max_iter=30)"
   ]
  },
  {
   "cell_type": "code",
   "execution_count": 44,
   "id": "82bf02a9",
   "metadata": {},
   "outputs": [
    {
     "name": "stdout",
     "output_type": "stream",
     "text": [
      "Found root in < 9 > iterations\n"
     ]
    },
    {
     "data": {
      "text/plain": [
       "1.465571232470246"
      ]
     },
     "execution_count": 44,
     "metadata": {},
     "output_type": "execute_result"
    }
   ],
   "source": [
    "#for x_0 as 10\n",
    "newtonian(f, df, 10, epsilon=1e-6, max_iter=30)"
   ]
  },
  {
   "cell_type": "markdown",
   "id": "6d6e433e",
   "metadata": {},
   "source": [
    "# now I am reducing epsilon to 1e-8 and I will show the same three examples:"
   ]
  },
  {
   "cell_type": "code",
   "execution_count": 47,
   "id": "186b538b",
   "metadata": {},
   "outputs": [
    {
     "name": "stdout",
     "output_type": "stream",
     "text": [
      "Found root in < 6 > iterations\n"
     ]
    },
    {
     "data": {
      "text/plain": [
       "1.4655712318767877"
      ]
     },
     "execution_count": 47,
     "metadata": {},
     "output_type": "execute_result"
    }
   ],
   "source": [
    "#for x_0 as 10\n",
    "newtonian(f, df, 1, epsilon=1e-8, max_iter=30)"
   ]
  },
  {
   "cell_type": "code",
   "execution_count": 48,
   "id": "38369085",
   "metadata": {},
   "outputs": [
    {
     "name": "stdout",
     "output_type": "stream",
     "text": [
      "Found root in < 6 > iterations\n"
     ]
    },
    {
     "data": {
      "text/plain": [
       "1.4655712318902172"
      ]
     },
     "execution_count": 48,
     "metadata": {},
     "output_type": "execute_result"
    }
   ],
   "source": [
    "#for x_0 as 10\n",
    "newtonian(f, df, 3, epsilon=1e-8, max_iter=30)"
   ]
  },
  {
   "cell_type": "code",
   "execution_count": 36,
   "id": "6914bd09",
   "metadata": {},
   "outputs": [
    {
     "name": "stdout",
     "output_type": "stream",
     "text": [
      "Found root in < 9 > iterations\n"
     ]
    },
    {
     "data": {
      "text/plain": [
       "1.465571232470246"
      ]
     },
     "execution_count": 36,
     "metadata": {},
     "output_type": "execute_result"
    }
   ],
   "source": [
    "#for x_0 as 10\n",
    "newtonian(f, df, 10, epsilon=1e-8, max_iter=30)"
   ]
  },
  {
   "cell_type": "markdown",
   "id": "d63d7b30",
   "metadata": {},
   "source": [
    "# only the smallest value of x_0 has any change in iterations, otherwise it stayed at 6 and 9 for x_0 3 and 10, respectively."
   ]
  },
  {
   "cell_type": "markdown",
   "id": "dc312b5b",
   "metadata": {},
   "source": [
    "# for value x_0 equal to 1, it took one more iteration "
   ]
  },
  {
   "cell_type": "markdown",
   "id": "98478f23",
   "metadata": {},
   "source": [
    "# thank you!!"
   ]
  },
  {
   "cell_type": "code",
   "execution_count": null,
   "id": "78998a42",
   "metadata": {},
   "outputs": [],
   "source": []
  }
 ],
 "metadata": {
  "kernelspec": {
   "display_name": "Python 3 (ipykernel)",
   "language": "python",
   "name": "python3"
  },
  "language_info": {
   "codemirror_mode": {
    "name": "ipython",
    "version": 3
   },
   "file_extension": ".py",
   "mimetype": "text/x-python",
   "name": "python",
   "nbconvert_exporter": "python",
   "pygments_lexer": "ipython3",
   "version": "3.10.2"
  }
 },
 "nbformat": 4,
 "nbformat_minor": 5
}
